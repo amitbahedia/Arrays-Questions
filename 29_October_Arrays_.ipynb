{
  "nbformat": 4,
  "nbformat_minor": 0,
  "metadata": {
    "colab": {
      "provenance": []
    },
    "kernelspec": {
      "name": "python3",
      "display_name": "Python 3"
    },
    "language_info": {
      "name": "python"
    }
  },
  "cells": [
    {
      "cell_type": "code",
      "execution_count": 1,
      "metadata": {
        "id": "isBMRBw7-6Ma"
      },
      "outputs": [],
      "source": [
        "## 1. Given an array, check if it contains any duplicates or not."
      ]
    },
    {
      "cell_type": "code",
      "source": [
        "def duplicates_in_array(arr):\n",
        "\n",
        "  if len(set(arr)) != len(arr): ## set is having unique elements\n",
        "    return True\n",
        "  else:\n",
        "    return False\n",
        "\n",
        "\n",
        "\n",
        ""
      ],
      "metadata": {
        "id": "XIoyQrT3_SG1"
      },
      "execution_count": 47,
      "outputs": []
    },
    {
      "cell_type": "code",
      "source": [
        "arr = [1, 2, 4, 2, 5, 9]\n",
        "duplicates_in_array(arr)"
      ],
      "metadata": {
        "colab": {
          "base_uri": "https://localhost:8080/"
        },
        "id": "Nvh3feafI2uc",
        "outputId": "4dcba736-f439-4d62-9606-7298d6be222e"
      },
      "execution_count": 49,
      "outputs": [
        {
          "output_type": "execute_result",
          "data": {
            "text/plain": [
              "True"
            ]
          },
          "metadata": {},
          "execution_count": 49
        }
      ]
    },
    {
      "cell_type": "code",
      "source": [
        "# 2. Given an array and an integer k, rotate the array to the right by k steps.\n"
      ],
      "metadata": {
        "id": "ZkfUb76EJHH7"
      },
      "execution_count": 50,
      "outputs": []
    },
    {
      "cell_type": "code",
      "source": [
        "def rotate(arr, k):\n",
        "  n = len(arr)\n",
        "  k = k % n # # Handle rotations larger than array length\n",
        "  arr[:] = arr[k+1:] + arr[:k+1]\n",
        "  return arr\n",
        "\n",
        "\n",
        "\n",
        "\n",
        "\n",
        "\n",
        "\n",
        "\n",
        "\n",
        "# driver code\n",
        "\n",
        "arr = [1, 2, 3, 4, 5, 6, 7]\n",
        "\n",
        "rotate(arr, 3)\n",
        "\n",
        "##Output = [5, 6, 7, 1, 2, 3, 4]"
      ],
      "metadata": {
        "colab": {
          "base_uri": "https://localhost:8080/"
        },
        "id": "RoRUHUEzK17T",
        "outputId": "846c73c8-f291-4c5e-93f5-742f984c3040"
      },
      "execution_count": 79,
      "outputs": [
        {
          "output_type": "execute_result",
          "data": {
            "text/plain": [
              "[5, 6, 7, 1, 2, 3, 4]"
            ]
          },
          "metadata": {},
          "execution_count": 79
        }
      ]
    },
    {
      "cell_type": "code",
      "source": [
        "# 3. Reverse the given array in-place, means without using any extra data structure."
      ],
      "metadata": {
        "id": "-AjiPdIzMX9N"
      },
      "execution_count": 80,
      "outputs": []
    },
    {
      "cell_type": "code",
      "source": [
        "def reverse_array(arr):\n",
        "\n",
        "  return arr[::-1] ## Done by slicing operations\n",
        "\n",
        "\n",
        "\n",
        "## Driver Code\n",
        "\n",
        "arr = [2, 4, 5, 7, 9, 12]\n",
        "reverse_array(arr)"
      ],
      "metadata": {
        "colab": {
          "base_uri": "https://localhost:8080/"
        },
        "id": "VUNvO7oDSmV_",
        "outputId": "6b0bf6bd-ed47-4e87-dfce-c3c0d7f19f14"
      },
      "execution_count": 81,
      "outputs": [
        {
          "output_type": "execute_result",
          "data": {
            "text/plain": [
              "[12, 9, 7, 5, 4, 2]"
            ]
          },
          "metadata": {},
          "execution_count": 81
        }
      ]
    },
    {
      "cell_type": "code",
      "source": [
        "# 4. Given an array of integers, find the maximum element in an array\n"
      ],
      "metadata": {
        "id": "pggX7izLWcSH"
      },
      "execution_count": 96,
      "outputs": []
    },
    {
      "cell_type": "code",
      "source": [
        "def max_element(arr):\n",
        "  max_so_far = arr[0]\n",
        "  for i in range(1, len(arr)):\n",
        "    if arr[i] >  max_so_far:\n",
        "       max_so_far = arr[i]\n",
        "  return max_so_far\n",
        "\n",
        "\n",
        "\n",
        "\n",
        "#Driver Code\n",
        "\n",
        "arr = [10, 5, 20, 8, 15]\n",
        "print(max_element(arr))"
      ],
      "metadata": {
        "colab": {
          "base_uri": "https://localhost:8080/"
        },
        "id": "Y4uC2e83WsrG",
        "outputId": "fd8381cb-d5a2-4fcb-ee86-12cc21b18b65"
      },
      "execution_count": 122,
      "outputs": [
        {
          "output_type": "stream",
          "name": "stdout",
          "text": [
            "20\n"
          ]
        }
      ]
    },
    {
      "cell_type": "code",
      "source": [
        "# 5. Given a sorted array, remove the duplicate element without using any extra data structure.\n"
      ],
      "metadata": {
        "id": "96UgkdDraaQ5"
      },
      "execution_count": 123,
      "outputs": []
    },
    {
      "cell_type": "code",
      "source": [
        "def remove_duplicate(arr):\n",
        "\n",
        "  return set(arr)\n",
        "\n",
        "\n",
        "arr = [1, 1, 2, 2, 2, 3, 3, 4, 4, 4, 5, 5]\n",
        "remove_duplicate(arr)"
      ],
      "metadata": {
        "colab": {
          "base_uri": "https://localhost:8080/"
        },
        "id": "yI8FWYpbdH8G",
        "outputId": "d1c4d2b4-94c9-4c24-8364-3748da5f5ccd"
      },
      "execution_count": 124,
      "outputs": [
        {
          "output_type": "execute_result",
          "data": {
            "text/plain": [
              "{1, 2, 3, 4, 5}"
            ]
          },
          "metadata": {},
          "execution_count": 124
        }
      ]
    },
    {
      "cell_type": "code",
      "source": [],
      "metadata": {
        "id": "o4P0zpHUdUh3"
      },
      "execution_count": null,
      "outputs": []
    }
  ]
}